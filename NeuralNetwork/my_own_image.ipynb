{
 "cells": [
  {
   "cell_type": "code",
   "execution_count": 1,
   "id": "cb6f645b",
   "metadata": {},
   "outputs": [],
   "source": [
    "import numpy as np\n",
    "import scipy.special as sp\n",
    "import matplotlib.pyplot as pyplot\n",
    "\n",
    "%matplotlib inline"
   ]
  },
  {
   "cell_type": "code",
   "execution_count": 2,
   "id": "353dff6c",
   "metadata": {},
   "outputs": [],
   "source": [
    "import imageio\n",
    "import glob"
   ]
  },
  {
   "cell_type": "code",
   "execution_count": 3,
   "id": "8758f01a",
   "metadata": {},
   "outputs": [],
   "source": [
    "class NeuralNetwork:\n",
    "    \n",
    "    def __init__(self, input_nodes, hidden_nodes, output_nodes, learning_rate):\n",
    "        \n",
    "        self.inputs = input_nodes\n",
    "        self.hiddens = hidden_nodes\n",
    "        self.outputs = output_nodes\n",
    "        self.lr = learning_rate\n",
    "        \n",
    "        # 가중치 초기화\n",
    "        self.wih = np.random.normal(0.0, pow(hidden_nodes,-0.5), (input_nodes, hidden_nodes)) # (in node X hiodden node) 가중치 행렬\n",
    "        self.who = np.random.normal(0.0, pow(output_nodes,-0.5), (hidden_nodes, output_nodes))\n",
    "        \n",
    "        # 활성화 함수\n",
    "        self.sigmoid = lambda x : sp.expit(x)\n",
    "        \n",
    "        pass\n",
    "    \n",
    "    def train(self, input_list, target_list):\n",
    "        \n",
    "        inputs = np.array(input_list, ndmin=2)\n",
    "        targets = np.array(target_list, ndmin=2)\n",
    "        \n",
    "        hidden_input = np.dot(inputs, self.wih)\n",
    "        hidden_output = self.sigmoid(hidden_input)\n",
    "        \n",
    "        final_input = np.dot(hidden_output, self.who)\n",
    "        final_output = self.sigmoid(final_input)\n",
    "        \n",
    "        # 에러 값\n",
    "        final_error = targets-final_output\n",
    "        hidden_error = np.dot(final_error, np.transpose(self.who))\n",
    "        \n",
    "        #가중치 조정\n",
    "        self.who += self.lr*np.dot(np.transpose(hidden_output),final_error*final_output*(1-final_output))  # O(j)*(t-0(k))*O(k)*(1-O(k))\n",
    "        self.wih += self.lr*np.dot(inputs.T, hidden_error*hidden_output*(1-hidden_output))\n",
    "        \n",
    "        pass\n",
    "    \n",
    "    def query(self, input_list):\n",
    "        \n",
    "        inputs = np.array(input_list, ndmin=2)\n",
    "        \n",
    "        hidden_input = np.dot(inputs, self.wih)\n",
    "        hidden_output = self.sigmoid(hidden_input)\n",
    "        \n",
    "        final_input = np.dot(hidden_output, self.who)\n",
    "        final_output = self.sigmoid(final_input)\n",
    "        \n",
    "        return final_output"
   ]
  },
  {
   "cell_type": "code",
   "execution_count": 4,
   "id": "1ea2ed05",
   "metadata": {},
   "outputs": [],
   "source": [
    "input_nodes = 784\n",
    "hidden_nodes = 100\n",
    "output_nodes = 10\n",
    "lr = 0.3\n",
    "\n",
    "nn = NeuralNetwork(input_nodes, hidden_nodes, output_nodes, lr)"
   ]
  },
  {
   "cell_type": "code",
   "execution_count": 5,
   "id": "9802787e",
   "metadata": {},
   "outputs": [],
   "source": [
    "train_set = open(\"dataset/train_60000.csv\", 'r')\n",
    "train_list = train_set.readlines()\n",
    "train_set.close()\n",
    "\n",
    "test_set = open(\"dataset/test_10000.csv\", 'r')\n",
    "test_list = test_set.readlines()\n",
    "test_set.close()"
   ]
  },
  {
   "cell_type": "code",
   "execution_count": 6,
   "id": "5d37986b",
   "metadata": {},
   "outputs": [],
   "source": [
    "input_nodes = 784\n",
    "hidden_nodes = 300\n",
    "output_nodes = 10\n",
    "lr = 0.2\n",
    "\n",
    "nn = NeuralNetwork(input_nodes, hidden_nodes, output_nodes, lr)\n",
    "for record in train_list:\n",
    "        data_list = record.split(',')\n",
    "        target_list = np.zeros(10)+0.01\n",
    "        target_list[int(data_list[0])] = 0.99\n",
    "        input_list =(np.asfarray(data_list[1:])/255*0.99)+0.01\n",
    "        nn.train(input_list,target_list)\n",
    "        pass  "
   ]
  },
  {
   "cell_type": "code",
   "execution_count": 7,
   "id": "7f70dfe4",
   "metadata": {},
   "outputs": [
    {
     "name": "stdout",
     "output_type": "stream",
     "text": [
      "0.9592\n"
     ]
    }
   ],
   "source": [
    "score = []\n",
    "for record in test_list:\n",
    "    data_list = record.split(',')\n",
    "    answer = int(data_list[0])\n",
    "    input_list =(np.asfarray(data_list[1:])/255*0.99)+0.01\n",
    "    output = nn.query(input_list)\n",
    "    query_answer = np.argmax(output)\n",
    "    if (query_answer == answer):\n",
    "        score.append(1)\n",
    "    else:\n",
    "        score.append(0)\n",
    "        pass\n",
    "    pass \n",
    "score_array = np.array(score)\n",
    "print(score_array.sum()/score_array.size)"
   ]
  },
  {
   "cell_type": "code",
   "execution_count": 18,
   "id": "1682132c",
   "metadata": {},
   "outputs": [],
   "source": [
    "my_own_data = []\n",
    "for img_name in glob.glob(\"dataset/number0-9/?.png\"):\n",
    "    \n",
    "    label = int(img_name[-5:-4])\n",
    "    img_array = imageio.imread(img_name, as_gray= True)\n",
    "    img_data = 255.0-img_array\n",
    "    record = np.append(label, img_data)\n",
    "    my_own_data.append(record)"
   ]
  },
  {
   "cell_type": "code",
   "execution_count": 19,
   "id": "6a15ceb1",
   "metadata": {},
   "outputs": [
    {
     "data": {
      "image/png": "[encoded data removed]",
      "text/plain": [
       "<Figure size 432x288 with 1 Axes>"
      ]
     },
     "metadata": {
      "needs_background": "light"
     },
     "output_type": "display_data"
    },
    {
     "name": "stdout",
     "output_type": "stream",
     "text": [
      "neural network answer : 0, number : 0.0\n"
     ]
    },
    {
     "data": {
      "image/png": "[encoded data removed]",
      "text/plain": [
       "<Figure size 432x288 with 1 Axes>"
      ]
     },
     "metadata": {
      "needs_background": "light"
     },
     "output_type": "display_data"
    },
    {
     "name": "stdout",
     "output_type": "stream",
     "text": [
      "neural network answer : 1, number : 1.0\n"
     ]
    },
    {
     "data": {
      "image/png": "[encoded data removed]",
      "text/plain": [
       "<Figure size 432x288 with 1 Axes>"
      ]
     },
     "metadata": {
      "needs_background": "light"
     },
     "output_type": "display_data"
    },
    {
     "name": "stdout",
     "output_type": "stream",
     "text": [
      "neural network answer : 2, number : 2.0\n"
     ]
    },
    {
     "data": {
      "image/png": "[encoded data removed]",
      "text/plain": [
       "<Figure size 432x288 with 1 Axes>"
      ]
     },
     "metadata": {
      "needs_background": "light"
     },
     "output_type": "display_data"
    },
    {
     "name": "stdout",
     "output_type": "stream",
     "text": [
      "neural network answer : 3, number : 3.0\n"
     ]
    },
    {
     "data": {
      "image/png": "[encoded data removed]",
      "text/plain": [
       "<Figure size 432x288 with 1 Axes>"
      ]
     },
     "metadata": {
      "needs_background": "light"
     },
     "output_type": "display_data"
    },
    {
     "name": "stdout",
     "output_type": "stream",
     "text": [
      "neural network answer : 9, number : 4.0\n"
     ]
    },
    {
     "data": {
      "image/png": "[encoded data removed]",
      "text/plain": [
       "<Figure size 432x288 with 1 Axes>"
      ]
     },
     "metadata": {
      "needs_background": "light"
     },
     "output_type": "display_data"
    },
    {
     "name": "stdout",
     "output_type": "stream",
     "text": [
      "neural network answer : 5, number : 5.0\n"
     ]
    },
    {
     "data": {
      "image/png": "[encoded data removed]",
      "text/plain": [
       "<Figure size 432x288 with 1 Axes>"
      ]
     },
     "metadata": {
      "needs_background": "light"
     },
     "output_type": "display_data"
    },
    {
     "name": "stdout",
     "output_type": "stream",
     "text": [
      "neural network answer : 6, number : 6.0\n"
     ]
    },
    {
     "data": {
      "image/png": "[encoded data removed]",
      "text/plain": [
       "<Figure size 432x288 with 1 Axes>"
      ]
     },
     "metadata": {
      "needs_background": "light"
     },
     "output_type": "display_data"
    },
    {
     "name": "stdout",
     "output_type": "stream",
     "text": [
      "neural network answer : 2, number : 7.0\n"
     ]
    },
    {
     "data": {
      "image/png": "[encoded data removed]",
      "text/plain": [
       "<Figure size 432x288 with 1 Axes>"
      ]
     },
     "metadata": {
      "needs_background": "light"
     },
     "output_type": "display_data"
    },
    {
     "name": "stdout",
     "output_type": "stream",
     "text": [
      "neural network answer : 3, number : 8.0\n"
     ]
    },
    {
     "data": {
      "image/png": "[encoded data removed]",
      "text/plain": [
       "<Figure size 432x288 with 1 Axes>"
      ]
     },
     "metadata": {
      "needs_background": "light"
     },
     "output_type": "display_data"
    },
    {
     "name": "stdout",
     "output_type": "stream",
     "text": [
      "neural network answer : 7, number : 9.0\n"
     ]
    }
   ],
   "source": [
    "score = 0;\n",
    "for record in my_own_data:\n",
    "    pyplot.imshow(record[1:].reshape((28,28)))\n",
    "    pyplot.show()\n",
    "    input_data = (record[1:]/255.0*0.99)+0.01\n",
    "    answer = nn.query(input_data)\n",
    "    print(f'neural network answer : {np.argmax(answer)}, number : {record[0]}')\n",
    "    if np.argmax(answer)==record[0]:\n",
    "        score+=1\n",
    "        pass\n",
    "    pass\n"
   ]
  },
  {
   "cell_type": "code",
   "execution_count": 20,
   "id": "caa3bb8f",
   "metadata": {},
   "outputs": [
    {
     "name": "stdout",
     "output_type": "stream",
     "text": [
      "6\n"
     ]
    }
   ],
   "source": [
    "print(score)"
   ]
  },
  {
   "cell_type": "code",
   "execution_count": 26,
   "id": "028ab55c",
   "metadata": {},
   "outputs": [
    {
     "data": {
      "text/plain": [
       "<matplotlib.image.AxesImage at 0x23f31889190>"
      ]
     },
     "execution_count": 26,
     "metadata": {},
     "output_type": "execute_result"
    },
    {
     "data": {
      "image/png": "[encoded data removed]",
      "text/plain": [
       "<Figure size 432x288 with 1 Axes>"
      ]
     },
     "metadata": {
      "needs_background": "light"
     },
     "output_type": "display_data"
    }
   ],
   "source": [
    "pyplot.imshow(np.asfarray(test_list[12].split(','))[1:].reshape((28,28)))"
   ]
  },
  {
   "cell_type": "code",
   "execution_count": 1,
   "id": "9d6decd5",
   "metadata": {},
   "outputs": [
    {
     "ename": "NameError",
     "evalue": "name 'pyplot' is not defined",
     "output_type": "error",
     "traceback": [
      "\u001b[1;31m---------------------------------------------------------------------------\u001b[0m",
      "\u001b[1;31mNameError\u001b[0m                                 Traceback (most recent call last)",
      "Input \u001b[1;32mIn [1]\u001b[0m, in \u001b[0;36m<cell line: 1>\u001b[1;34m()\u001b[0m\n\u001b[1;32m----> 1\u001b[0m \u001b[43mpyplot\u001b[49m\u001b[38;5;241m.\u001b[39mimshow(np\u001b[38;5;241m.\u001b[39masfarray(test_list[\u001b[38;5;241m12\u001b[39m]\u001b[38;5;241m.\u001b[39msplit(\u001b[38;5;124m'\u001b[39m\u001b[38;5;124m,\u001b[39m\u001b[38;5;124m'\u001b[39m))[\u001b[38;5;241m1\u001b[39m:]\u001b[38;5;241m.\u001b[39mreshape((\u001b[38;5;241m28\u001b[39m,\u001b[38;5;241m28\u001b[39m)))\n",
      "\u001b[1;31mNameError\u001b[0m: name 'pyplot' is not defined"
     ]
    }
   ],
   "source": [
    ".imshow(np.asfarray(test_list[12].split(','))[1:].reshape((28,28)))"
   ]
  },
  {
   "cell_type": "code",
   "execution_count": null,
   "id": "b24e8cc0",
   "metadata": {},
   "outputs": [],
   "source": []
  }
 ],
 "metadata": {
  "kernelspec": {
   "display_name": "Python 3 (ipykernel)",
   "language": "python",
   "name": "python3"
  },
  "language_info": {
   "codemirror_mode": {
    "name": "ipython",
    "version": 3
   },
   "file_extension": ".py",
   "mimetype": "text/x-python",
   "name": "python",
   "nbconvert_exporter": "python",
   "pygments_lexer": "ipython3",
   "version": "3.9.12"
  },
  "widgets": {
   "application/vnd.jupyter.widget-state+json": {
    "state": {},
    "version_major": 2,
    "version_minor": 0
   }
  }
 },
 "nbformat": 4,
 "nbformat_minor": 5
}
