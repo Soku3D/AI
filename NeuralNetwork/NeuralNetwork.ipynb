{
 "cells": [
  {
   "cell_type": "code",
   "execution_count": 2,
   "id": "c769864f",
   "metadata": {},
   "outputs": [],
   "source": [
    "import numpy as np\n",
    "import scipy.special"
   ]
  },
  {
   "cell_type": "code",
   "execution_count": 3,
   "id": "7a80a2d2",
   "metadata": {},
   "outputs": [],
   "source": [
    "class NeuralNetwork:\n",
    "    \n",
    "    def __init__(self, inputnodes, hiddennodes, outputnodes, learningrate):\n",
    "        self.inodes = inputnodes\n",
    "        self.hnodes = hiddennodes\n",
    "        self.onodes = outputnodes\n",
    "        self.lr = learningrate\n",
    "        self.wih = np.random.normal(0.0, pow(hiddennodes, -0.5), (inputnodes, hiddennodes)) \n",
    "        self.who = np.random.normal(0.0, pow(outputnodes, -0.5), (hiddennodes,outputnodes)) \n",
    "        self.act_f = lambda x : scipy.special.expit(x)\n",
    "        pass\n",
    "    \n",
    "    def train(self, input_list, target_list):\n",
    "        inputs = np.array(input_list, ndmin=2)\n",
    "        targets = np.array(target_list, ndmin=2)\n",
    "        \n",
    "        hidden_inputs = np.dot(inputs, self.wih)\n",
    "        hidden_outputs = self.act_f(hidden_inputs)\n",
    "        \n",
    "        final_inputs = np.dot(hidden_outputs, self.who)\n",
    "        final_outputs = self.act_f(final_inputs)\n",
    "        \n",
    "        output_errors = targets-final_outputs\n",
    "        \n",
    "        hidden_errors = np.dot(output_errors, self.who.T)\n",
    "        \n",
    "        \n",
    "        self.who += self.lr*np.dot(np.transpose(hidden_outputs), output_errors*(1-final_outputs)*final_outputs )\n",
    "        self.wih += self.lr*np.dot( np.transpose(inputs), hidden_errors*(1-hidden_outputs)*hidden_outputs)\n",
    "        \n",
    "        pass\n",
    "    \n",
    "    def query(self, input_list):\n",
    "        \n",
    "        inputs = np.array(input_list, ndmin=2)\n",
    "        hidden_inputs = np.dot(inputs, self.wih)\n",
    "        hidden_outputs = self.act_f(hidden_inputs)\n",
    "        \n",
    "        final_inputs = np.dot(hidden_outputs, self.who)\n",
    "        final_outputs = self.act_f(final_inputs)\n",
    "        \n",
    "        return final_outputs\n",
    "    "
   ]
  },
  {
   "cell_type": "code",
   "execution_count": 4,
   "id": "ba22ad04",
   "metadata": {},
   "outputs": [
    {
     "name": "stdout",
     "output_type": "stream",
     "text": [
      "[[0.53008415 0.43053815 0.56513158]]\n"
     ]
    }
   ],
   "source": [
    "input_nodes = 2\n",
    "hidden_nodes =3\n",
    "output_nodes = 3\n",
    "learning_rate = 0.3\n",
    "nnw = NeuralNetwork(input_nodes ,hidden_nodes ,output_nodes ,learning_rate)\n",
    "print(nnw.query([2,2]))"
   ]
  },
  {
   "cell_type": "code",
   "execution_count": 5,
   "id": "e8aab2f2",
   "metadata": {},
   "outputs": [
    {
     "name": "stdout",
     "output_type": "stream",
     "text": [
      "[[0.1003439  0.10031747 0.10029775]]\n"
     ]
    }
   ],
   "source": [
    "inputs = [2,2]\n",
    "\n",
    "x = np.array([[0.1,0.1,0.1]])\n",
    "for i in range(1000):\n",
    "    nnw.train(inputs,x)\n",
    "\n",
    "print(nnw.query([2,2]))"
   ]
  },
  {
   "cell_type": "code",
   "execution_count": null,
   "id": "d08199e9",
   "metadata": {},
   "outputs": [],
   "source": []
  }
 ],
 "metadata": {
  "kernelspec": {
   "display_name": "Python 3 (ipykernel)",
   "language": "python",
   "name": "python3"
  },
  "language_info": {
   "codemirror_mode": {
    "name": "ipython",
    "version": 3
   },
   "file_extension": ".py",
   "mimetype": "text/x-python",
   "name": "python",
   "nbconvert_exporter": "python",
   "pygments_lexer": "ipython3",
   "version": "3.9.12"
  }
 },
 "nbformat": 4,
 "nbformat_minor": 5
}
