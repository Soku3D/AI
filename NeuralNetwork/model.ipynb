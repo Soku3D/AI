{
 "cells": [
  {
   "cell_type": "markdown",
   "id": "1d837075",
   "metadata": {},
   "source": [
    "### Neural Network"
   ]
  },
  {
   "cell_type": "code",
   "execution_count": 1,
   "id": "657c8c5e",
   "metadata": {},
   "outputs": [
    {
     "name": "stdout",
     "output_type": "stream",
     "text": [
      "2.9.0\n"
     ]
    }
   ],
   "source": [
    "import numpy as np\n",
    "import imageio\n",
    "import matplotlib.pyplot as pyplot\n",
    "import scipy.special as sp\n",
    "%matplotlib inline\n",
    "print(imageio.__version__)"
   ]
  },
  {
   "cell_type": "markdown",
   "id": "de5ebfa6",
   "metadata": {},
   "source": [
    "## Neural Network class 구현"
   ]
  },
  {
   "cell_type": "code",
   "execution_count": 2,
   "id": "76426c20",
   "metadata": {},
   "outputs": [],
   "source": [
    "class NeuralNetwork:\n",
    "    \n",
    "    def __init__(self, input_nodes, hidden_nodes, output_nodes, learning_rate):\n",
    "        \n",
    "        self.inputs = input_nodes\n",
    "        self.hiddens = hidden_nodes\n",
    "        self.outputs = output_nodes\n",
    "        self.lr = learning_rate\n",
    "        \n",
    "        # 가중치 초기화\n",
    "        self.wih = np.random.normal(0.0, pow(hidden_nodes,-0.5), (input_nodes, hidden_nodes)) # (in node X hiodden node) 가중치 행렬\n",
    "        self.who = np.random.normal(0.0, pow(output_nodes,-0.5), (hidden_nodes, output_nodes))\n",
    "        \n",
    "        # 활성화 함수\n",
    "        self.sigmoid = lambda x : sp.expit(x)\n",
    "        \n",
    "        pass\n",
    "    \n",
    "    def train(self, input_list, target_list):\n",
    "        \n",
    "        inputs = np.array(input_list, ndmin=2)\n",
    "        targets = np.array(target_list, ndmin=2)\n",
    "        \n",
    "        hidden_input = np.dot(inputs, self.wih)\n",
    "        hidden_output = self.sigmoid(hidden_input)\n",
    "        \n",
    "        final_input = np.dot(hidden_output, self.who)\n",
    "        final_output = self.sigmoid(final_input)\n",
    "        \n",
    "        # 에러 값\n",
    "        final_error = targets-final_output\n",
    "        hidden_error = np.dot(final_error, np.transpose(self.who))\n",
    "        \n",
    "        #가중치 조정\n",
    "        self.who += self.lr*np.dot(np.transpose(hidden_output),final_error*final_output*(1-final_output))  # O(j)*(t-0(k))*O(k)*(1-O(k))\n",
    "        self.wih += self.lr*np.dot(inputs.T, hidden_error*hidden_output*(1-hidden_output))\n",
    "        \n",
    "        pass\n",
    "    \n",
    "    def query(self, input_list):\n",
    "        \n",
    "        inputs = np.array(input_list, ndmin=2)\n",
    "        \n",
    "        hidden_input = np.dot(inputs, self.wih)\n",
    "        hidden_output = self.sigmoid(hidden_input)\n",
    "        \n",
    "        final_input = np.dot(hidden_output, self.who)\n",
    "        final_output = self.sigmoid(final_input)\n",
    "        \n",
    "        return final_output"
   ]
  },
  {
   "cell_type": "markdown",
   "id": "a5d0f3a1",
   "metadata": {},
   "source": [
    "## Neural Network 객체 생성"
   ]
  },
  {
   "cell_type": "code",
   "execution_count": 3,
   "id": "c89cf341",
   "metadata": {},
   "outputs": [],
   "source": [
    "input_nodes = 784\n",
    "hidden_nodes = 100\n",
    "output_nodes = 10\n",
    "lr = 0.3\n",
    "\n",
    "nn = NeuralNetwork(input_nodes, hidden_nodes, output_nodes, lr)"
   ]
  },
  {
   "cell_type": "markdown",
   "id": "02a34542",
   "metadata": {},
   "source": [
    "## dataset 불러오기"
   ]
  },
  {
   "cell_type": "code",
   "execution_count": 4,
   "id": "c0bdb0f5",
   "metadata": {},
   "outputs": [],
   "source": [
    "train_set = open(\"dataset/train_60000.csv\", 'r')\n",
    "train_list = train_set.readlines()\n",
    "train_set.close()\n",
    "\n",
    "test_set = open(\"dataset/test_10000.csv\", 'r')\n",
    "test_list = test_set.readlines()\n",
    "test_set.close()"
   ]
  },
  {
   "cell_type": "markdown",
   "id": "08204b29",
   "metadata": {},
   "source": [
    "## 데이터 확인"
   ]
  },
  {
   "cell_type": "code",
   "execution_count": 5,
   "id": "86a7fb75",
   "metadata": {},
   "outputs": [
    {
     "data": {
      "image/png": "[encoded data removed]",
      "text/plain": [
       "<Figure size 432x288 with 1 Axes>"
      ]
     },
     "metadata": {
      "needs_background": "light"
     },
     "output_type": "display_data"
    },
    {
     "data": {
      "image/png": "[encoded data removed]",
      "text/plain": [
       "<Figure size 432x288 with 1 Axes>"
      ]
     },
     "metadata": {
      "needs_background": "light"
     },
     "output_type": "display_data"
    }
   ],
   "source": [
    "num = train_list[0].split(',')\n",
    "pixel_array = np.asfarray(num[1:]).reshape((28,28))\n",
    "pyplot.axis('off')\n",
    "pyplot.imshow(pixel_array)\n",
    "pyplot.show()\n",
    "pyplot.axis('off')\n",
    "pyplot.imshow(pixel_array, interpolation='spline36')\n",
    "pyplot.show()"
   ]
  },
  {
   "cell_type": "markdown",
   "id": "8cc5592e",
   "metadata": {},
   "source": [
    "## train"
   ]
  },
  {
   "cell_type": "code",
   "execution_count": 6,
   "id": "f017c3da",
   "metadata": {},
   "outputs": [],
   "source": [
    "for record in train_list:\n",
    "    \n",
    "    data_list = record.split(',')\n",
    "    \n",
    "    target_list = np.zeros(10)+0.01\n",
    "    target_list[int(data_list[0])] = 0.99\n",
    "    \n",
    "    input_list =(np.asfarray(data_list[1:])/255*0.99)+0.01\n",
    "    nn.train(input_list,target_list)\n",
    "    pass    "
   ]
  },
  {
   "cell_type": "markdown",
   "id": "ffbeec72",
   "metadata": {},
   "source": [
    "## test"
   ]
  },
  {
   "cell_type": "code",
   "execution_count": 7,
   "id": "bd615402",
   "metadata": {},
   "outputs": [],
   "source": [
    "score = []\n",
    "for record in test_list:\n",
    "    data_list = record.split(',')\n",
    "    \n",
    "    answer = int(data_list[0])\n",
    "    \n",
    "    input_list =(np.asfarray(data_list[1:])/255*0.99)+0.01\n",
    "    output = nn.query(input_list)\n",
    "    \n",
    "    query_answer = np.argmax(output)\n",
    "    \n",
    "    if (query_answer == answer):\n",
    "        score.append(1)\n",
    "    else:\n",
    "        score.append(0)\n",
    "        pass\n",
    "    pass    "
   ]
  },
  {
   "cell_type": "code",
   "execution_count": 25,
   "id": "e011b8c7",
   "metadata": {},
   "outputs": [
    {
     "name": "stdout",
     "output_type": "stream",
     "text": [
      "0.9482\n"
     ]
    }
   ],
   "source": [
    "score_array = np.array(score)\n",
    "score__ = []\n",
    "score__.append(score_array.sum()/score_array.size)\n",
    "print(score_array.sum()/score_array.size)"
   ]
  },
  {
   "cell_type": "markdown",
   "id": "06e8c835",
   "metadata": {},
   "source": [
    "## 직접 쓴 숫자로 테스트"
   ]
  },
  {
   "cell_type": "code",
   "execution_count": 9,
   "id": "1b94a213",
   "metadata": {},
   "outputs": [],
   "source": [
    "img_array2 = imageio.imread('dataset/2.png')\n",
    "img2 = np.array(img_array2)\n",
    "np.savetxt('test.txt',img2[0],fmt = '%2d',delimiter=',',header='test')\n",
    "\n",
    "img_array = imageio.imread('dataset/2.png', as_gray=True)\n",
    "\n",
    "img_data  = 255.0 - img_array.reshape(784)\n",
    "\n",
    "img_data = (img_data / 255.0 * 0.99) + 0.01"
   ]
  },
  {
   "cell_type": "code",
   "execution_count": 10,
   "id": "888d5cd8",
   "metadata": {},
   "outputs": [
    {
     "name": "stdout",
     "output_type": "stream",
     "text": [
      "2\n"
     ]
    }
   ],
   "source": [
    "print(np.argmax(nn.query(img_data)))"
   ]
  },
  {
   "cell_type": "markdown",
   "id": "fae4f1dd",
   "metadata": {},
   "source": [
    "## 여러 모델로 테스트"
   ]
  },
  {
   "cell_type": "code",
   "execution_count": 19,
   "id": "28667711",
   "metadata": {},
   "outputs": [],
   "source": [
    "input_nodes = 784\n",
    "hidden_nodes = 100\n",
    "output_nodes = 10\n",
    "lr = 0.3\n",
    "nn2 = NeuralNetwork(input_nodes, hidden_nodes, output_nodes, lr)\n",
    "nn3 = NeuralNetwork(input_nodes, hidden_nodes, output_nodes, lr)\n",
    "nn4 = NeuralNetwork(input_nodes, hidden_nodes, output_nodes, lr)\n",
    "nn5 = NeuralNetwork(input_nodes, hidden_nodes, output_nodes, lr)\n",
    "nn6 = NeuralNetwork(input_nodes, hidden_nodes, output_nodes, lr)\n",
    "nn7 = NeuralNetwork(input_nodes, hidden_nodes, output_nodes, lr)\n",
    "nn8 = NeuralNetwork(input_nodes, hidden_nodes, output_nodes, lr)\n",
    "nn9 = NeuralNetwork(input_nodes, hidden_nodes, output_nodes, lr)\n",
    "nn10 = NeuralNetwork(input_nodes, hidden_nodes, output_nodes, lr)"
   ]
  },
  {
   "cell_type": "code",
   "execution_count": 36,
   "id": "2e5b6023",
   "metadata": {},
   "outputs": [],
   "source": [
    "hidden_nodes = 200\n",
    "nn2 = NeuralNetwork(input_nodes, hidden_nodes, output_nodes, lr)"
   ]
  },
  {
   "cell_type": "code",
   "execution_count": 37,
   "id": "108308c2",
   "metadata": {},
   "outputs": [],
   "source": [
    "epochs =2\n",
    "for i in range(epochs):\n",
    "    for record in train_list:\n",
    "        data_list = record.split(',')\n",
    "        target_list = np.zeros(10)+0.01\n",
    "        target_list[int(data_list[0])] = 0.99\n",
    "        input_list =(np.asfarray(data_list[1:])/255*0.99)+0.01\n",
    "        nn2.train(input_list,target_list)\n",
    "        pass  \n",
    "    pass"
   ]
  },
  {
   "cell_type": "code",
   "execution_count": 20,
   "id": "f452a87d",
   "metadata": {},
   "outputs": [],
   "source": [
    "epochs =3\n",
    "for i in range(epochs):\n",
    "    for record in train_list:\n",
    "        data_list = record.split(',')\n",
    "        target_list = np.zeros(10)+0.01\n",
    "        target_list[int(data_list[0])] = 0.99\n",
    "        input_list =(np.asfarray(data_list[1:])/255*0.99)+0.01\n",
    "        nn3.train(input_list,target_list)\n",
    "        pass  \n",
    "    pass"
   ]
  },
  {
   "cell_type": "code",
   "execution_count": 21,
   "id": "68766941",
   "metadata": {},
   "outputs": [],
   "source": [
    "epochs =4\n",
    "for i in range(epochs):\n",
    "    for record in train_list:\n",
    "        data_list = record.split(',')\n",
    "        target_list = np.zeros(10)+0.01\n",
    "        target_list[int(data_list[0])] = 0.99\n",
    "        input_list =(np.asfarray(data_list[1:])/255*0.99)+0.01\n",
    "        nn4.train(input_list,target_list)\n",
    "        pass  \n",
    "    pass\n",
    "epochs =5\n",
    "for i in range(epochs):\n",
    "    for record in train_list:\n",
    "        data_list = record.split(',')\n",
    "        target_list = np.zeros(10)+0.01\n",
    "        target_list[int(data_list[0])] = 0.99\n",
    "        input_list =(np.asfarray(data_list[1:])/255*0.99)+0.01\n",
    "        nn2.train(input_list,target_list)\n",
    "        pass  \n",
    "    pass"
   ]
  },
  {
   "cell_type": "code",
   "execution_count": 22,
   "id": "4b5df939",
   "metadata": {},
   "outputs": [],
   "source": [
    "epochs =6\n",
    "for i in range(epochs):\n",
    "    for record in train_list:\n",
    "        data_list = record.split(',')\n",
    "        target_list = np.zeros(10)+0.01\n",
    "        target_list[int(data_list[0])] = 0.99\n",
    "        input_list =(np.asfarray(data_list[1:])/255*0.99)+0.01\n",
    "        nn6.train(input_list,target_list)\n",
    "        pass  \n",
    "    pass\n",
    "epochs =7\n",
    "for i in range(epochs):\n",
    "    for record in train_list:\n",
    "        data_list = record.split(',')\n",
    "        target_list = np.zeros(10)+0.01\n",
    "        target_list[int(data_list[0])] = 0.99\n",
    "        input_list =(np.asfarray(data_list[1:])/255*0.99)+0.01\n",
    "        nn7.train(input_list,target_list)\n",
    "        pass  \n",
    "    pass"
   ]
  },
  {
   "cell_type": "code",
   "execution_count": 23,
   "id": "1b015ef5",
   "metadata": {},
   "outputs": [],
   "source": [
    "epochs =8\n",
    "for i in range(epochs):\n",
    "    for record in train_list:\n",
    "        data_list = record.split(',')\n",
    "        target_list = np.zeros(10)+0.01\n",
    "        target_list[int(data_list[0])] = 0.99\n",
    "        input_list =(np.asfarray(data_list[1:])/255*0.99)+0.01\n",
    "        nn8.train(input_list,target_list)\n",
    "        pass  \n",
    "    pass\n",
    "epochs =9\n",
    "for i in range(epochs):\n",
    "    for record in train_list:\n",
    "        data_list = record.split(',')\n",
    "        target_list = np.zeros(10)+0.01\n",
    "        target_list[int(data_list[0])] = 0.99\n",
    "        input_list =(np.asfarray(data_list[1:])/255*0.99)+0.01\n",
    "        nn9.train(input_list,target_list)\n",
    "        pass  \n",
    "    pass"
   ]
  },
  {
   "cell_type": "code",
   "execution_count": 24,
   "id": "d12bbaa2",
   "metadata": {},
   "outputs": [],
   "source": [
    "epochs =10\n",
    "for i in range(epochs):\n",
    "    for record in train_list:\n",
    "        data_list = record.split(',')\n",
    "        target_list = np.zeros(10)+0.01\n",
    "        target_list[int(data_list[0])] = 0.99\n",
    "        input_list =(np.asfarray(data_list[1:])/255*0.99)+0.01\n",
    "        nn10.train(input_list,target_list)\n",
    "        pass  \n",
    "    pass"
   ]
  },
  {
   "cell_type": "code",
   "execution_count": 26,
   "id": "c5ca20d5",
   "metadata": {},
   "outputs": [],
   "source": [
    "score = []\n",
    "for record in test_list:\n",
    "    data_list = record.split(',')\n",
    "    answer = int(data_list[0])\n",
    "    input_list =(np.asfarray(data_list[1:])/255*0.99)+0.01\n",
    "    output = nn2.query(input_list)\n",
    "    query_answer = np.argmax(output)\n",
    "    if (query_answer == answer):\n",
    "        score.append(1)\n",
    "    else:\n",
    "        score.append(0)\n",
    "        pass\n",
    "    pass \n",
    "score_array = np.array(score)\n",
    "score__.append(score_array.sum()/score_array.size)"
   ]
  },
  {
   "cell_type": "code",
   "execution_count": 28,
   "id": "0f592a9e",
   "metadata": {},
   "outputs": [],
   "source": [
    "score = []\n",
    "for record in test_list:\n",
    "    data_list = record.split(',')\n",
    "    answer = int(data_list[0])\n",
    "    input_list =(np.asfarray(data_list[1:])/255*0.99)+0.01\n",
    "    output = nn3.query(input_list)\n",
    "    query_answer = np.argmax(output)\n",
    "    if (query_answer == answer):\n",
    "        score.append(1)\n",
    "    else:\n",
    "        score.append(0)\n",
    "        pass\n",
    "    pass \n",
    "score_array = np.array(score)\n",
    "score__.append(score_array.sum()/score_array.size)\n",
    "score = []\n",
    "for record in test_list:\n",
    "    data_list = record.split(',')\n",
    "    answer = int(data_list[0])\n",
    "    input_list =(np.asfarray(data_list[1:])/255*0.99)+0.01\n",
    "    output = nn4.query(input_list)\n",
    "    query_answer = np.argmax(output)\n",
    "    if (query_answer == answer):\n",
    "        score.append(1)\n",
    "    else:\n",
    "        score.append(0)\n",
    "        pass\n",
    "    pass \n",
    "score_array = np.array(score)\n",
    "score__.append(score_array.sum()/score_array.size)\n",
    "score = []\n",
    "for record in test_list:\n",
    "    data_list = record.split(',')\n",
    "    answer = int(data_list[0])\n",
    "    input_list =(np.asfarray(data_list[1:])/255*0.99)+0.01\n",
    "    output = nn5.query(input_list)\n",
    "    query_answer = np.argmax(output)\n",
    "    if (query_answer == answer):\n",
    "        score.append(1)\n",
    "    else:\n",
    "        score.append(0)\n",
    "        pass\n",
    "    pass \n",
    "score_array = np.array(score)\n",
    "score__.append(score_array.sum()/score_array.size)\n",
    "score = []\n",
    "for record in test_list:\n",
    "    data_list = record.split(',')\n",
    "    answer = int(data_list[0])\n",
    "    input_list =(np.asfarray(data_list[1:])/255*0.99)+0.01\n",
    "    output = nn6.query(input_list)\n",
    "    query_answer = np.argmax(output)\n",
    "    if (query_answer == answer):\n",
    "        score.append(1)\n",
    "    else:\n",
    "        score.append(0)\n",
    "        pass\n",
    "    pass \n",
    "score_array = np.array(score)\n",
    "score__.append(score_array.sum()/score_array.size)\n",
    "score = []\n",
    "for record in test_list:\n",
    "    data_list = record.split(',')\n",
    "    answer = int(data_list[0])\n",
    "    input_list =(np.asfarray(data_list[1:])/255*0.99)+0.01\n",
    "    output = nn7.query(input_list)\n",
    "    query_answer = np.argmax(output)\n",
    "    if (query_answer == answer):\n",
    "        score.append(1)\n",
    "    else:\n",
    "        score.append(0)\n",
    "        pass\n",
    "    pass \n",
    "score_array = np.array(score)\n",
    "score__.append(score_array.sum()/score_array.size)\n",
    "score = []\n",
    "for record in test_list:\n",
    "    data_list = record.split(',')\n",
    "    answer = int(data_list[0])\n",
    "    input_list =(np.asfarray(data_list[1:])/255*0.99)+0.01\n",
    "    output = nn8.query(input_list)\n",
    "    query_answer = np.argmax(output)\n",
    "    if (query_answer == answer):\n",
    "        score.append(1)\n",
    "    else:\n",
    "        score.append(0)\n",
    "        pass\n",
    "    pass \n",
    "score_array = np.array(score)\n",
    "score__.append(score_array.sum()/score_array.size)\n",
    "score = []\n",
    "for record in test_list:\n",
    "    data_list = record.split(',')\n",
    "    answer = int(data_list[0])\n",
    "    input_list =(np.asfarray(data_list[1:])/255*0.99)+0.01\n",
    "    output = nn9.query(input_list)\n",
    "    query_answer = np.argmax(output)\n",
    "    if (query_answer == answer):\n",
    "        score.append(1)\n",
    "    else:\n",
    "        score.append(0)\n",
    "        pass\n",
    "    pass \n",
    "score_array = np.array(score)\n",
    "score__.append(score_array.sum()/score_array.size)\n",
    "score = []\n",
    "for record in test_list:\n",
    "    data_list = record.split(',')\n",
    "    answer = int(data_list[0])\n",
    "    input_list =(np.asfarray(data_list[1:])/255*0.99)+0.01\n",
    "    output = nn10.query(input_list)\n",
    "    query_answer = np.argmax(output)\n",
    "    if (query_answer == answer):\n",
    "        score.append(1)\n",
    "    else:\n",
    "        score.append(0)\n",
    "        pass\n",
    "    pass \n",
    "score_array = np.array(score)\n",
    "score__.append(score_array.sum()/score_array.size)"
   ]
  },
  {
   "cell_type": "code",
   "execution_count": 31,
   "id": "699bc2e1",
   "metadata": {},
   "outputs": [],
   "source": [
    "x = np.arange(11)"
   ]
  },
  {
   "cell_type": "code",
   "execution_count": 34,
   "id": "712bc432",
   "metadata": {},
   "outputs": [
    {
     "data": {
      "text/plain": [
       "[<matplotlib.lines.Line2D at 0x22f8c56efa0>]"
      ]
     },
     "execution_count": 34,
     "metadata": {},
     "output_type": "execute_result"
    },
    {
     "data": {
      "image/png": "[encoded data removed]",
      "text/plain": [
       "<Figure size 432x288 with 1 Axes>"
      ]
     },
     "metadata": {
      "needs_background": "light"
     },
     "output_type": "display_data"
    }
   ],
   "source": [
    "pyplot.plot(x,score__)"
   ]
  },
  {
   "cell_type": "code",
   "execution_count": 35,
   "id": "885ac4dc",
   "metadata": {},
   "outputs": [
    {
     "name": "stdout",
     "output_type": "stream",
     "text": [
      "[0.9482, 0.9466, 0.9526, 0.9534, 0.1144, 0.9521, 0.9524, 0.9463, 0.9479, 0.9514]\n"
     ]
    }
   ],
   "source": [
    "print(score__)"
   ]
  },
  {
   "cell_type": "code",
   "execution_count": 38,
   "id": "1d534a72",
   "metadata": {},
   "outputs": [
    {
     "name": "stdout",
     "output_type": "stream",
     "text": [
      "0.95415\n"
     ]
    }
   ],
   "source": [
    "for record in test_list:\n",
    "    data_list = record.split(',')\n",
    "    answer = int(data_list[0])\n",
    "    input_list =(np.asfarray(data_list[1:])/255*0.99)+0.01\n",
    "    output = nn2.query(input_list)\n",
    "    query_answer = np.argmax(output)\n",
    "    if (query_answer == answer):\n",
    "        score.append(1)\n",
    "    else:\n",
    "        score.append(0)\n",
    "        pass\n",
    "    pass \n",
    "score_array = np.array(score)\n",
    "print(score_array.sum()/score_array.size)"
   ]
  },
  {
   "cell_type": "code",
   "execution_count": 39,
   "id": "6d3dccec",
   "metadata": {},
   "outputs": [
    {
     "name": "stdout",
     "output_type": "stream",
     "text": [
      "0.9746\n"
     ]
    }
   ],
   "source": [
    "input_nodes = 784\n",
    "hidden_nodes = 300\n",
    "output_nodes = 10\n",
    "lr = 0.1\n",
    "\n",
    "nn11 = NeuralNetwork(input_nodes, hidden_nodes, output_nodes, lr)\n",
    "for i in range(10):\n",
    "    for record in train_list:\n",
    "        data_list = record.split(',')\n",
    "        target_list = np.zeros(10)+0.01\n",
    "        target_list[int(data_list[0])] = 0.99\n",
    "        input_list =(np.asfarray(data_list[1:])/255*0.99)+0.01\n",
    "        nn11.train(input_list,target_list)\n",
    "        pass  \n",
    "    pass\n",
    "score = []\n",
    "for record in test_list:\n",
    "    data_list = record.split(',')\n",
    "    answer = int(data_list[0])\n",
    "    input_list =(np.asfarray(data_list[1:])/255*0.99)+0.01\n",
    "    output = nn11.query(input_list)\n",
    "    query_answer = np.argmax(output)\n",
    "    if (query_answer == answer):\n",
    "        score.append(1)\n",
    "    else:\n",
    "        score.append(0)\n",
    "        pass\n",
    "    pass \n",
    "score_array = np.array(score)\n",
    "print(score_array.sum()/score_array.size)"
   ]
  },
  {
   "cell_type": "code",
   "execution_count": 40,
   "id": "011acecf",
   "metadata": {},
   "outputs": [
    {
     "name": "stdout",
     "output_type": "stream",
     "text": [
      "0.973\n"
     ]
    }
   ],
   "source": [
    "input_nodes = 784\n",
    "hidden_nodes = 500\n",
    "output_nodes = 10\n",
    "lr = 0.1\n",
    "\n",
    "nn12 = NeuralNetwork(input_nodes, hidden_nodes, output_nodes, lr)\n",
    "for i in range(5):\n",
    "    for record in train_list:\n",
    "        data_list = record.split(',')\n",
    "        target_list = np.zeros(10)+0.01\n",
    "        target_list[int(data_list[0])] = 0.99\n",
    "        input_list =(np.asfarray(data_list[1:])/255*0.99)+0.01\n",
    "        nn12.train(input_list,target_list)\n",
    "        pass  \n",
    "    pass\n",
    "score = []\n",
    "for record in test_list:\n",
    "    data_list = record.split(',')\n",
    "    answer = int(data_list[0])\n",
    "    input_list =(np.asfarray(data_list[1:])/255*0.99)+0.01\n",
    "    output = nn12.query(input_list)\n",
    "    query_answer = np.argmax(output)\n",
    "    if (query_answer == answer):\n",
    "        score.append(1)\n",
    "    else:\n",
    "        score.append(0)\n",
    "        pass\n",
    "    pass \n",
    "score_array = np.array(score)\n",
    "print(score_array.sum()/score_array.size)"
   ]
  },
  {
   "cell_type": "code",
   "execution_count": null,
   "id": "b84538c0",
   "metadata": {},
   "outputs": [],
   "source": []
  }
 ],
 "metadata": {
  "kernelspec": {
   "display_name": "Python 3 (ipykernel)",
   "language": "python",
   "name": "python3"
  },
  "language_info": {
   "codemirror_mode": {
    "name": "ipython",
    "version": 3
   },
   "file_extension": ".py",
   "mimetype": "text/x-python",
   "name": "python",
   "nbconvert_exporter": "python",
   "pygments_lexer": "ipython3",
   "version": "3.9.12"
  }
 },
 "nbformat": 4,
 "nbformat_minor": 5
}
