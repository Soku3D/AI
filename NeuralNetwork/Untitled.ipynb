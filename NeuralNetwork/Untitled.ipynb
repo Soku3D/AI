{
 "cells": [
  {
   "cell_type": "code",
   "execution_count": 1,
   "id": "cb6f645b",
   "metadata": {},
   "outputs": [],
   "source": [
    "import numpy as np\n",
    "import scipy.special\n",
    "import matplotlib.pyplot as pyplot\n",
    "%matplotlib inline"
   ]
  },
  {
   "cell_type": "code",
   "execution_count": 2,
   "id": "8758f01a",
   "metadata": {},
   "outputs": [],
   "source": [
    "class NeuralNetwork:\n",
    "    \n",
    "    def __init__(self, inputnodes, hiddennodes, outputnodes, learningrate):\n",
    "        self.inodes = inputnodes\n",
    "        self.hnodes = hiddennodes\n",
    "        self.onodes = outputnodes\n",
    "        self.lr = learningrate\n",
    "        self.wih = np.random.normal(0.0, pow(hiddennodes, -0.5), (inputnodes, hiddennodes)) \n",
    "        self.who = np.random.normal(0.0, pow(outputnodes, -0.5), (hiddennodes,outputnodes)) \n",
    "        self.act_f = lambda x : scipy.special.expit(x)\n",
    "        pass\n",
    "    \n",
    "    def train(self, input_list, target_list):\n",
    "        inputs = np.array(input_list, ndmin=2)\n",
    "        targets = np.array(target_list, ndmin=2)\n",
    "        \n",
    "        hidden_inputs = np.dot(inputs, self.wih)\n",
    "        hidden_outputs = self.act_f(hidden_inputs)\n",
    "        \n",
    "        final_inputs = np.dot(hidden_outputs, self.who)\n",
    "        final_outputs = self.act_f(final_inputs)\n",
    "        \n",
    "        output_errors = targets-final_outputs\n",
    "        \n",
    "        hidden_errors = np.dot(output_errors, self.who.T)\n",
    "        \n",
    "        \n",
    "        self.who += self.lr*np.dot(np.transpose(hidden_outputs), output_errors*(1-final_outputs)*final_outputs )\n",
    "        self.wih += self.lr*np.dot( np.transpose(inputs), hidden_errors*(1-hidden_outputs)*hidden_outputs)\n",
    "        \n",
    "        pass\n",
    "    \n",
    "    def query(self, input_list):\n",
    "        \n",
    "        inputs = np.array(input_list, ndmin=2)\n",
    "        hidden_inputs = np.dot(inputs, self.wih)\n",
    "        hidden_outputs = self.act_f(hidden_inputs)\n",
    "        \n",
    "        final_inputs = np.dot(hidden_outputs, self.who)\n",
    "        final_outputs = self.act_f(final_inputs)\n",
    "        \n",
    "        return final_outputs\n",
    "    "
   ]
  },
  {
   "cell_type": "code",
   "execution_count": 3,
   "id": "1ea2ed05",
   "metadata": {},
   "outputs": [],
   "source": [
    "input_nodes = 784\n",
    "hidden_nodes = 100\n",
    "output_nodes = 10\n",
    "learning_rate = 0.3\n",
    "nn = NeuralNetwork(input_nodes ,hidden_nodes ,output_nodes ,learning_rate)\n"
   ]
  },
  {
   "cell_type": "code",
   "execution_count": 4,
   "id": "9802787e",
   "metadata": {},
   "outputs": [
    {
     "name": "stdout",
     "output_type": "stream",
     "text": [
      "<class 'list'>\n"
     ]
    }
   ],
   "source": [
    "dataset = open(\"dataset/train_100.csv\", 'r')\n",
    "data_list = dataset.readlines()\n",
    "dataset.close()\n",
    "len(data_list)\n",
    "print(type(data_list))"
   ]
  },
  {
   "cell_type": "code",
   "execution_count": 6,
   "id": "6d188ee9",
   "metadata": {},
   "outputs": [],
   "source": [
    "for record in data_list:\n",
    "    data = record.split(',')\n",
    "    input_data = (np.asfarray(data[1:])/255.0*0.99)+0.01\n",
    "    \n",
    "    target_data = np.zeros(10)+0.1\n",
    "    target_data[int(data[0])]=0.99\n",
    "    nn.train(input_data, target_data)"
   ]
  },
  {
   "cell_type": "code",
   "execution_count": 7,
   "id": "7b5a01dc",
   "metadata": {},
   "outputs": [],
   "source": [
    "testset = open(\"dataset/test_10.csv\", 'r')\n",
    "test_data = testset.readlines()\n",
    "testset.close()"
   ]
  },
  {
   "cell_type": "code",
   "execution_count": 12,
   "id": "83dbad41",
   "metadata": {},
   "outputs": [
    {
     "ename": "ValueError",
     "evalue": "The truth value of an array with more than one element is ambiguous. Use a.any() or a.all()",
     "output_type": "error",
     "traceback": [
      "\u001b[1;31m---------------------------------------------------------------------------\u001b[0m",
      "\u001b[1;31mValueError\u001b[0m                                Traceback (most recent call last)",
      "Input \u001b[1;32mIn [12]\u001b[0m, in \u001b[0;36m<cell line: 1>\u001b[1;34m()\u001b[0m\n\u001b[0;32m      6\u001b[0m maxv \u001b[38;5;241m=\u001b[39m \u001b[38;5;241m0.0\u001b[39m\n\u001b[0;32m      7\u001b[0m \u001b[38;5;28;01mfor\u001b[39;00m i \u001b[38;5;129;01min\u001b[39;00m \u001b[38;5;28mrange\u001b[39m(\u001b[38;5;241m10\u001b[39m):\n\u001b[1;32m----> 8\u001b[0m     \u001b[38;5;28;01mif\u001b[39;00m \u001b[43ml\u001b[49m\u001b[43m[\u001b[49m\u001b[43mi\u001b[49m\u001b[43m]\u001b[49m\u001b[38;5;241;43m>\u001b[39;49m\u001b[43mmaxv\u001b[49m:\n\u001b[0;32m      9\u001b[0m         maxv \u001b[38;5;241m=\u001b[39m l[i]\n\u001b[0;32m     10\u001b[0m     \u001b[38;5;28;01mpass\u001b[39;00m\n",
      "\u001b[1;31mValueError\u001b[0m: The truth value of an array with more than one element is ambiguous. Use a.any() or a.all()"
     ]
    }
   ],
   "source": [
    "for record in test_data:\n",
    "    data = record.split(',')\n",
    "    input_data = (np.asfarray(data[1:])/255.0*0.99)+0.01\n",
    "    answer = data[0]\n",
    "    l = nn.query(input_data)\n",
    "    maxv = 0.0\n",
    "    for i in range(10):\n",
    "        if l[i]>maxv:\n",
    "            maxv = l[i]\n",
    "        pass\n",
    "    for i in range(10):\n",
    "        if l[i]==maxv:\n",
    "            print(i)\n",
    "        pass"
   ]
  },
  {
   "cell_type": "code",
   "execution_count": null,
   "id": "1682132c",
   "metadata": {},
   "outputs": [],
   "source": []
  }
 ],
 "metadata": {
  "kernelspec": {
   "display_name": "Python 3 (ipykernel)",
   "language": "python",
   "name": "python3"
  },
  "language_info": {
   "codemirror_mode": {
    "name": "ipython",
    "version": 3
   },
   "file_extension": ".py",
   "mimetype": "text/x-python",
   "name": "python",
   "nbconvert_exporter": "python",
   "pygments_lexer": "ipython3",
   "version": "3.9.12"
  }
 },
 "nbformat": 4,
 "nbformat_minor": 5
}
